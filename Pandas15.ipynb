{
 "cells": [
  {
   "cell_type": "markdown",
   "id": "a8607819",
   "metadata": {},
   "source": [
    "Pandas 15 - Memecah Nilai String dari Suatu Kolom ke Dalam Beberapa Kolom Baru\n",
    "Source : Indonesia Belajar\n",
    "\n",
    "Import Modules"
   ]
  },
  {
   "cell_type": "code",
   "execution_count": 1,
   "id": "32903eda",
   "metadata": {},
   "outputs": [
    {
     "name": "stdout",
     "output_type": "stream",
     "text": [
      "2.3.3\n"
     ]
    }
   ],
   "source": [
    "import pandas as pd\n",
    "\n",
    "print(pd.__version__)"
   ]
  },
  {
   "cell_type": "markdown",
   "id": "b05cc196",
   "metadata": {},
   "source": [
    "Persiapan Data Frame"
   ]
  },
  {
   "cell_type": "code",
   "execution_count": 2,
   "id": "f4dce406",
   "metadata": {},
   "outputs": [
    {
     "data": {
      "text/html": [
       "<div>\n",
       "<style scoped>\n",
       "    .dataframe tbody tr th:only-of-type {\n",
       "        vertical-align: middle;\n",
       "    }\n",
       "\n",
       "    .dataframe tbody tr th {\n",
       "        vertical-align: top;\n",
       "    }\n",
       "\n",
       "    .dataframe thead th {\n",
       "        text-align: right;\n",
       "    }\n",
       "</style>\n",
       "<table border=\"1\" class=\"dataframe\">\n",
       "  <thead>\n",
       "    <tr style=\"text-align: right;\">\n",
       "      <th></th>\n",
       "      <th>nama</th>\n",
       "      <th>tempat_kelahiran</th>\n",
       "    </tr>\n",
       "  </thead>\n",
       "  <tbody>\n",
       "    <tr>\n",
       "      <th>0</th>\n",
       "      <td>Rafi Ahmad</td>\n",
       "      <td>Bandung, Jawa Barat</td>\n",
       "    </tr>\n",
       "    <tr>\n",
       "      <th>1</th>\n",
       "      <td>Chris John</td>\n",
       "      <td>Banjarnegara, Jawa Tengah</td>\n",
       "    </tr>\n",
       "    <tr>\n",
       "      <th>2</th>\n",
       "      <td>Ade Rai</td>\n",
       "      <td>Jakarta, DKI Jakarta</td>\n",
       "    </tr>\n",
       "  </tbody>\n",
       "</table>\n",
       "</div>"
      ],
      "text/plain": [
       "         nama           tempat_kelahiran\n",
       "0  Rafi Ahmad        Bandung, Jawa Barat\n",
       "1  Chris John  Banjarnegara, Jawa Tengah\n",
       "2     Ade Rai       Jakarta, DKI Jakarta"
      ]
     },
     "execution_count": 2,
     "metadata": {},
     "output_type": "execute_result"
    }
   ],
   "source": [
    "# Membuat data frame menggunakan dictionary sebagai sumber datanya\n",
    "# Data frame memiliki dua kolom, 'nama' dan 'tempat_kelahiran', yang berisi informasi tentang nama dan tempat kelahiran seseorang\n",
    "data = {'nama':['Rafi Ahmad', 'Chris John', 'Ade Rai'], \n",
    "        'tempat_kelahiran':['Bandung, Jawa Barat', 'Banjarnegara, Jawa Tengah', 'Jakarta, DKI Jakarta']}\n",
    "\n",
    "df = pd.DataFrame(data)\n",
    "\n",
    "# Menampilkan data frame yang telah dibuat\n",
    "df"
   ]
  },
  {
   "cell_type": "markdown",
   "id": "ee8fe064",
   "metadata": {},
   "source": [
    "Memecah Nama Depan dan Nama Belakang"
   ]
  },
  {
   "cell_type": "code",
   "execution_count": 3,
   "id": "843633bc",
   "metadata": {},
   "outputs": [
    {
     "data": {
      "text/html": [
       "<div>\n",
       "<style scoped>\n",
       "    .dataframe tbody tr th:only-of-type {\n",
       "        vertical-align: middle;\n",
       "    }\n",
       "\n",
       "    .dataframe tbody tr th {\n",
       "        vertical-align: top;\n",
       "    }\n",
       "\n",
       "    .dataframe thead th {\n",
       "        text-align: right;\n",
       "    }\n",
       "</style>\n",
       "<table border=\"1\" class=\"dataframe\">\n",
       "  <thead>\n",
       "    <tr style=\"text-align: right;\">\n",
       "      <th></th>\n",
       "      <th>nama</th>\n",
       "      <th>tempat_kelahiran</th>\n",
       "      <th>nama_depan</th>\n",
       "      <th>nama_belakang</th>\n",
       "    </tr>\n",
       "  </thead>\n",
       "  <tbody>\n",
       "    <tr>\n",
       "      <th>0</th>\n",
       "      <td>Rafi Ahmad</td>\n",
       "      <td>Bandung, Jawa Barat</td>\n",
       "      <td>Rafi</td>\n",
       "      <td>Ahmad</td>\n",
       "    </tr>\n",
       "    <tr>\n",
       "      <th>1</th>\n",
       "      <td>Chris John</td>\n",
       "      <td>Banjarnegara, Jawa Tengah</td>\n",
       "      <td>Chris</td>\n",
       "      <td>John</td>\n",
       "    </tr>\n",
       "    <tr>\n",
       "      <th>2</th>\n",
       "      <td>Ade Rai</td>\n",
       "      <td>Jakarta, DKI Jakarta</td>\n",
       "      <td>Ade</td>\n",
       "      <td>Rai</td>\n",
       "    </tr>\n",
       "  </tbody>\n",
       "</table>\n",
       "</div>"
      ],
      "text/plain": [
       "         nama           tempat_kelahiran nama_depan nama_belakang\n",
       "0  Rafi Ahmad        Bandung, Jawa Barat       Rafi         Ahmad\n",
       "1  Chris John  Banjarnegara, Jawa Tengah      Chris          John\n",
       "2     Ade Rai       Jakarta, DKI Jakarta        Ade           Rai"
      ]
     },
     "execution_count": 3,
     "metadata": {},
     "output_type": "execute_result"
    }
   ],
   "source": [
    "# Menggunakan metode str.split untuk membagi kolom 'nama' menjadi dua kolom, 'nama_depan' dan 'nama_belakang'\n",
    "df[['nama_depan', 'nama_belakang']] = df['nama'].str.split(' ', expand=True)\n",
    "\n",
    "# Menampilkan data frame dengan tambahan dua kolom baru, 'nama_depan' dan 'nama_belakang'\n",
    "df"
   ]
  },
  {
   "cell_type": "markdown",
   "id": "a1ba66f3",
   "metadata": {},
   "source": [
    "Memecah Nama Kota dan Propinsi"
   ]
  },
  {
   "cell_type": "code",
   "execution_count": 4,
   "id": "bc6cb91a",
   "metadata": {},
   "outputs": [
    {
     "data": {
      "text/html": [
       "<div>\n",
       "<style scoped>\n",
       "    .dataframe tbody tr th:only-of-type {\n",
       "        vertical-align: middle;\n",
       "    }\n",
       "\n",
       "    .dataframe tbody tr th {\n",
       "        vertical-align: top;\n",
       "    }\n",
       "\n",
       "    .dataframe thead th {\n",
       "        text-align: right;\n",
       "    }\n",
       "</style>\n",
       "<table border=\"1\" class=\"dataframe\">\n",
       "  <thead>\n",
       "    <tr style=\"text-align: right;\">\n",
       "      <th></th>\n",
       "      <th>nama</th>\n",
       "      <th>tempat_kelahiran</th>\n",
       "      <th>nama_depan</th>\n",
       "      <th>nama_belakang</th>\n",
       "      <th>kota</th>\n",
       "      <th>propinsi</th>\n",
       "    </tr>\n",
       "  </thead>\n",
       "  <tbody>\n",
       "    <tr>\n",
       "      <th>0</th>\n",
       "      <td>Rafi Ahmad</td>\n",
       "      <td>Bandung, Jawa Barat</td>\n",
       "      <td>Rafi</td>\n",
       "      <td>Ahmad</td>\n",
       "      <td>Bandung</td>\n",
       "      <td>Jawa Barat</td>\n",
       "    </tr>\n",
       "    <tr>\n",
       "      <th>1</th>\n",
       "      <td>Chris John</td>\n",
       "      <td>Banjarnegara, Jawa Tengah</td>\n",
       "      <td>Chris</td>\n",
       "      <td>John</td>\n",
       "      <td>Banjarnegara</td>\n",
       "      <td>Jawa Tengah</td>\n",
       "    </tr>\n",
       "    <tr>\n",
       "      <th>2</th>\n",
       "      <td>Ade Rai</td>\n",
       "      <td>Jakarta, DKI Jakarta</td>\n",
       "      <td>Ade</td>\n",
       "      <td>Rai</td>\n",
       "      <td>Jakarta</td>\n",
       "      <td>DKI Jakarta</td>\n",
       "    </tr>\n",
       "  </tbody>\n",
       "</table>\n",
       "</div>"
      ],
      "text/plain": [
       "         nama           tempat_kelahiran nama_depan nama_belakang  \\\n",
       "0  Rafi Ahmad        Bandung, Jawa Barat       Rafi         Ahmad   \n",
       "1  Chris John  Banjarnegara, Jawa Tengah      Chris          John   \n",
       "2     Ade Rai       Jakarta, DKI Jakarta        Ade           Rai   \n",
       "\n",
       "           kota      propinsi  \n",
       "0       Bandung    Jawa Barat  \n",
       "1  Banjarnegara   Jawa Tengah  \n",
       "2       Jakarta   DKI Jakarta  "
      ]
     },
     "execution_count": 4,
     "metadata": {},
     "output_type": "execute_result"
    }
   ],
   "source": [
    "# Menggunakan metode str.split untuk membagi kolom 'tempat_kelahiran' menjadi dua kolom, 'kota' dan 'propinsi'\n",
    "df[['kota', 'propinsi']] = df['tempat_kelahiran'].str.split(',', expand=True)\n",
    "\n",
    "# Menampilkan data frame dengan tambahan dua kolom baru, 'kota' dan 'propinsi'\n",
    "df"
   ]
  }
 ],
 "metadata": {
  "kernelspec": {
   "display_name": "Python 3",
   "language": "python",
   "name": "python3"
  },
  "language_info": {
   "codemirror_mode": {
    "name": "ipython",
    "version": 3
   },
   "file_extension": ".py",
   "mimetype": "text/x-python",
   "name": "python",
   "nbconvert_exporter": "python",
   "pygments_lexer": "ipython3",
   "version": "3.13.5"
  }
 },
 "nbformat": 4,
 "nbformat_minor": 5
}
